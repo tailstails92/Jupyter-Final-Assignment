{
 "cells": [
  {
   "cell_type": "markdown",
   "id": "66e67efd-44c8-46fb-aa3c-cb8acfe55fb4",
   "metadata": {
    "tags": []
   },
   "source": [
    "# My Jupyter Notebook on IBM Watson Studio"
   ]
  },
  {
   "cell_type": "markdown",
   "id": "34374a63-c31a-4441-99f1-4b048c6d8cda",
   "metadata": {},
   "source": [
    "**Juan Carlos Vazquez**\n",
    "\n",
    "Price Analyst"
   ]
  },
  {
   "cell_type": "markdown",
   "id": "5d557da5-f6dc-4ddd-9a22-22bc364d1ecf",
   "metadata": {},
   "source": [
    "*I am interested in data science because I want to increase my skills portfolio*\n",
    "\n",
    "*I am interested in data science because I love analyzing data and results*"
   ]
  },
  {
   "cell_type": "markdown",
   "id": "f37b584a-96b3-47d4-b53a-b1b7f3c1caee",
   "metadata": {},
   "source": [
    "### My code in cell 5 is executing a division. Specifically, it is dividing one thousand by twenty five and giving an output of 40."
   ]
  },
  {
   "cell_type": "code",
   "execution_count": 3,
   "id": "384d3b85-9fd4-4341-b56b-a4f756961e35",
   "metadata": {},
   "outputs": [
    {
     "data": {
      "text/plain": [
       "40.0"
      ]
     },
     "execution_count": 3,
     "metadata": {},
     "output_type": "execute_result"
    }
   ],
   "source": [
    "1000 / 25"
   ]
  },
  {
   "cell_type": "markdown",
   "id": "8e95461e-a2c8-4594-a26f-cf133628bef9",
   "metadata": {},
   "source": [
    "#### Important music genres:\n",
    "\n",
    "⋅Dance\n",
    "\n",
    "⋅Latin\n",
    "\n",
    "⋅Rock\n",
    "\n",
    "| Dance       | Latin    | Rock        |\n",
    "| ----------- | -------- | ----------- |\n",
    "| Disco       | Salsa    | Alternative |\n",
    "| Electronic  | Bachata  | Indie       |\n",
    "| House       | Cumbia   | Punk        |\n",
    "\n",
    "\n",
    "\n",
    "\n",
    "#### More info:\n",
    "https://en.wikipedia.org/wiki/List_of_music_genres_and_styles"
   ]
  }
 ],
 "metadata": {
  "kernelspec": {
   "display_name": "Python",
   "language": "python",
   "name": "conda-env-python-py"
  },
  "language_info": {
   "codemirror_mode": {
    "name": "ipython",
    "version": 3
   },
   "file_extension": ".py",
   "mimetype": "text/x-python",
   "name": "python",
   "nbconvert_exporter": "python",
   "pygments_lexer": "ipython3",
   "version": "3.7.12"
  }
 },
 "nbformat": 4,
 "nbformat_minor": 5
}
